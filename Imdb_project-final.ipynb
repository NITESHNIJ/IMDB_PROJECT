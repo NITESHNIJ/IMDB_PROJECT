{
 "cells": [
  {
   "cell_type": "markdown",
   "metadata": {},
   "source": [
    "                                         FETCHING IMDB DETAILS USING OMDB API\n",
    "                                                    MADE BY:\n",
    "                                                    NITESH NIJHAWAN\n",
    "                                                    DIVYANSH DIXIT"
   ]
  },
  {
   "cell_type": "code",
   "execution_count": 5,
   "metadata": {},
   "outputs": [],
   "source": [
    "\n",
    "# Fetching data from imdb\n",
    "import json\n",
    "import urllib.request\n",
    "from urllib.request import urlopen\n",
    "# Displaying poster\n",
    "from IPython.display import Image\n",
    "# For coloured text\n",
    "from IPython.core.display import HTML\n",
    "from IPython.display import Markdown\n",
    "# For clearing output after entering choice\n",
    "from IPython.display import clear_output\n",
    "\n",
    "\n",
    "#All magic happens here\n",
    "def mainfn():\n",
    "    movie_name = input(\"Simply enter the name of the movie:\")\n",
    "    name_list = movie_name.split()\n",
    "    #Fetching results from omdb api\n",
    "    response = urllib.request.urlopen('http://www.omdbapi.com/?apikey=408e2d44&s={}'.format('+'.join(name_list)))\n",
    "    #Reading the json file\n",
    "    x = json.loads(response.read())\n",
    "    validity=check_validity(x)\n",
    "    if validity == 1:\n",
    "        user_choice=print_result(x)\n",
    "        if user_choice != -1:\n",
    "            return final_url(x['Search'][user_choice]['Poster'])\n",
    "        else:\n",
    "            return final_url('N/A')\n",
    "# Checking if the entered movie is available        \n",
    "def check_validity(data):\n",
    "    if data['Response'] == 'False':\n",
    "        print('Sorry, There is no result for your input!!\\n Make sure the spelling is correct.')\n",
    "        return 0\n",
    "    else:\n",
    "        return 1\n",
    "    \n",
    "    \n",
    "# Print no. of movies found\n",
    "def print_result(data):\n",
    "    if int(data['totalResults']) == '1':\n",
    "        specific_data=new_fn(data['Search'][0])\n",
    "        print_net_info(specific_data)\n",
    "        return 0\n",
    "    else:\n",
    "        (choice,limit)=print_options_get_choice(data)\n",
    "        \n",
    "        if choice>=1 and choice<=limit:\n",
    "            specific_data=new_fn(data['Search'][choice-1])\n",
    "            print_net_info(specific_data)\n",
    "            return choice-1\n",
    "        else:\n",
    "            display (Markdown('<span style=\"color:rgb(0,0,255)font-size:25px\"><b>INVALID INPUT!!</b></span>'))\n",
    "            return -1\n",
    "    \n",
    "#Getting choice of mpvie from user        \n",
    "def print_options_get_choice(data):\n",
    "    sub_data=data['Search']\n",
    "    for a in range(0,len(sub_data)):\n",
    "        sub_sub_data=sub_data[a]\n",
    "        print('press {}'.format(a+1))\n",
    "        print('TITLE: {}'.format(sub_sub_data['Title']))\n",
    "    choice = int(input(\"enter your choice here:\"))\n",
    "    return (choice,len(sub_data))\n",
    "\n",
    "#Displaying the info fetched\n",
    "def print_net_info(new_data):\n",
    "    clear_output()\n",
    "    #print('\\n \\n \\n')\n",
    "    display (Markdown('<span style=\"color:rgba(255,0,0,1); font-size:25px ;margin-left:auto;margin-right:auto\"><b>Title:</b></span> '))\n",
    "    print('{}'.format(new_data['Title']))\n",
    "    display (Markdown('<span style=\"color:rgba(255,0,0,1); font-size:25px\"><b>Year of release:</b></span>'))\n",
    "    print('{}'.format(new_data['Year']))\n",
    "    display (Markdown('<span style=\"color:rgba(255,0,0,1); font-size:25px\"><b>Type of media:</b> </span>'))\n",
    "    print('{}'.format(new_data['Type']))\n",
    "    #print(new_data['imdbID'])\n",
    "    display (Markdown('<span style=\"color:rgba(255,0,0,1); font-size:25px\"><b>Writer :</b> </span>'))\n",
    "    print('{}'.format(new_data['Genre']))\n",
    "    display (Markdown('<span style=\"color:rgba(255,0,0,1); font-size:25px\"><b>Director :</b> </span>'))\n",
    "    print('{}'.format(new_data['Director']))\n",
    "    display (Markdown('<span style=\"color:rgba(255,0,0,1); font-size:25px\"><b>Actors :</b> </span>'))\n",
    "    print('{}'.format(new_data['Actors']))\n",
    "    display (Markdown('<span style=\"color:rgba(255,0,0,1); font-size:25px\"><b>Synopsis :</b> </span>'))\n",
    "    print('{}'.format(new_data['Plot']))\n",
    "\n",
    "#In case of no poster diplay no picture image\n",
    "def final_url(applicable):\n",
    "    if applicable == 'N/A':\n",
    "        return 'https://vignette.wikia.nocookie.net/dancewithdevils/images/3/38/NoPicture.jpeg'\n",
    "    else:\n",
    "        return applicable\n",
    "        \n",
    "#Fetching additional data from the omdb api\n",
    "def new_fn(data_new):\n",
    "    imdb_id=data_new['imdbID']\n",
    "    response = urllib.request.urlopen('http://www.omdbapi.com/?apikey=408e2d44&i={}&plot=short'.format(imdb_id))\n",
    "    y = json.loads(response.read())\n",
    "    return y\n",
    "\n"
   ]
  },
  {
   "cell_type": "code",
   "execution_count": 6,
   "metadata": {},
   "outputs": [
    {
     "data": {
      "text/markdown": [
       "<span style=\"color:rgba(255,0,0,1); font-size:25px ;margin-left:auto;margin-right:auto\"><b>Title:</b></span> "
      ],
      "text/plain": [
       "<IPython.core.display.Markdown object>"
      ]
     },
     "metadata": {},
     "output_type": "display_data"
    },
    {
     "name": "stdout",
     "output_type": "stream",
     "text": [
      "Airlift\n"
     ]
    },
    {
     "data": {
      "text/markdown": [
       "<span style=\"color:rgba(255,0,0,1); font-size:25px\"><b>Year of release:</b></span>"
      ],
      "text/plain": [
       "<IPython.core.display.Markdown object>"
      ]
     },
     "metadata": {},
     "output_type": "display_data"
    },
    {
     "name": "stdout",
     "output_type": "stream",
     "text": [
      "2016\n"
     ]
    },
    {
     "data": {
      "text/markdown": [
       "<span style=\"color:rgba(255,0,0,1); font-size:25px\"><b>Type of media:</b> </span>"
      ],
      "text/plain": [
       "<IPython.core.display.Markdown object>"
      ]
     },
     "metadata": {},
     "output_type": "display_data"
    },
    {
     "name": "stdout",
     "output_type": "stream",
     "text": [
      "movie\n"
     ]
    },
    {
     "data": {
      "text/markdown": [
       "<span style=\"color:rgba(255,0,0,1); font-size:25px\"><b>Writer :</b> </span>"
      ],
      "text/plain": [
       "<IPython.core.display.Markdown object>"
      ]
     },
     "metadata": {},
     "output_type": "display_data"
    },
    {
     "name": "stdout",
     "output_type": "stream",
     "text": [
      "Adventure, Drama, History\n"
     ]
    },
    {
     "data": {
      "text/markdown": [
       "<span style=\"color:rgba(255,0,0,1); font-size:25px\"><b>Director :</b> </span>"
      ],
      "text/plain": [
       "<IPython.core.display.Markdown object>"
      ]
     },
     "metadata": {},
     "output_type": "display_data"
    },
    {
     "name": "stdout",
     "output_type": "stream",
     "text": [
      "Raja Menon\n"
     ]
    },
    {
     "data": {
      "text/markdown": [
       "<span style=\"color:rgba(255,0,0,1); font-size:25px\"><b>Actors :</b> </span>"
      ],
      "text/plain": [
       "<IPython.core.display.Markdown object>"
      ]
     },
     "metadata": {},
     "output_type": "display_data"
    },
    {
     "name": "stdout",
     "output_type": "stream",
     "text": [
      "Akshay Kumar, Nimrat Kaur, Kumud Mishra, Prakash Belawadi\n"
     ]
    },
    {
     "data": {
      "text/markdown": [
       "<span style=\"color:rgba(255,0,0,1); font-size:25px\"><b>Synopsis :</b> </span>"
      ],
      "text/plain": [
       "<IPython.core.display.Markdown object>"
      ]
     },
     "metadata": {},
     "output_type": "display_data"
    },
    {
     "name": "stdout",
     "output_type": "stream",
     "text": [
      "When Iraq invades Kuwait in August, 1990, a callous Indian businessman becomes the spokesperson for more than 170,000 stranded countrymen.\n"
     ]
    },
    {
     "data": {
      "image/jpeg": "[encoded data removed]",
      "text/plain": [
       "<IPython.core.display.Image object>"
      ]
     },
     "execution_count": 6,
     "metadata": {
      "image/jpeg": {
       "height": 300,
       "width": 300
      }
     },
     "output_type": "execute_result"
    }
   ],
   "source": [
    "# Run this block to run the programme\n",
    "\n",
    "Image(mainfn(),width=300, height=300)"
   ]
  },
  {
   "cell_type": "code",
   "execution_count": null,
   "metadata": {},
   "outputs": [],
   "source": []
  },
  {
   "cell_type": "code",
   "execution_count": null,
   "metadata": {},
   "outputs": [],
   "source": []
  },
  {
   "cell_type": "code",
   "execution_count": null,
   "metadata": {},
   "outputs": [],
   "source": []
  }
 ],
 "metadata": {
  "kernelspec": {
   "display_name": "Python 3",
   "language": "python",
   "name": "python3"
  },
  "language_info": {
   "codemirror_mode": {
    "name": "ipython",
    "version": 3
   },
   "file_extension": ".py",
   "mimetype": "text/x-python",
   "name": "python",
   "nbconvert_exporter": "python",
   "pygments_lexer": "ipython3",
   "version": "3.6.5"
  }
 },
 "nbformat": 4,
 "nbformat_minor": 2
}
